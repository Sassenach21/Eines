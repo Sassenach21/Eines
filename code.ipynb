{
 "cells": [
  {
   "cell_type": "code",
   "execution_count": 1,
   "metadata": {
    "collapsed": true,
    "pycharm": {
     "name": "#%%\n"
    }
   },
   "outputs": [],
   "source": [
    "import pandas as pd\n",
    "import numpy as np\n",
    "from sklearn.ensemble import IsolationForest\n",
    "from sklearn import preprocessing\n",
    "#from sklearn.preprocessing import LabelEncoder\n",
    "from sklearn.model_selection import train_test_split"
   ]
  },
  {
   "cell_type": "code",
   "execution_count": 2,
   "outputs": [
    {
     "data": {
      "text/plain": "                               _time  SkidNr  Line  Camera Recognized  \\\n0       2022-06-27T14:30:04.000+0200    1322     3       6         OK   \n1       2022-06-27T14:29:58.000+0200     365     3       4         OK   \n2       2022-06-27T14:29:30.000+0200     329     2       4         OK   \n3       2022-06-27T14:29:27.000+0200     104     1       2         OK   \n4       2022-06-27T14:29:23.000+0200     576     2       6         OK   \n...                              ...     ...   ...     ...        ...   \n211258  2022-06-03T05:08:34.000+0200     990     2       2         OK   \n211259  2022-06-03T05:08:22.000+0200     366     2       4         OK   \n211260  2022-06-03T05:08:06.000+0200     442     2       6         OK   \n211261  2022-06-03T05:07:44.000+0200     981     3       2         OK   \n211262  2022-06-03T05:07:38.000+0200    1285     1       2         OK   \n\n        Quality1  Quality2  Quality3  Quality4  Quality_Min  \n0           0.88      0.93      0.91      0.92         0.88  \n1           0.97      0.93      0.97      0.89         0.89  \n2           0.95      0.91      0.94      0.96         0.91  \n3           0.96      0.84      0.96      0.93         0.84  \n4           0.98      0.91      0.94      0.95         0.91  \n...          ...       ...       ...       ...          ...  \n211258      0.96      0.94      0.95      0.96         0.94  \n211259      0.97      0.89      0.96      0.95         0.89  \n211260      0.98      0.94      0.93      0.93         0.93  \n211261      0.94      0.94      0.94      0.83         0.83  \n211262      0.83      0.90      0.96      0.90         0.83  \n\n[211263 rows x 10 columns]",
      "text/html": "<div>\n<style scoped>\n    .dataframe tbody tr th:only-of-type {\n        vertical-align: middle;\n    }\n\n    .dataframe tbody tr th {\n        vertical-align: top;\n    }\n\n    .dataframe thead th {\n        text-align: right;\n    }\n</style>\n<table border=\"1\" class=\"dataframe\">\n  <thead>\n    <tr style=\"text-align: right;\">\n      <th></th>\n      <th>_time</th>\n      <th>SkidNr</th>\n      <th>Line</th>\n      <th>Camera</th>\n      <th>Recognized</th>\n      <th>Quality1</th>\n      <th>Quality2</th>\n      <th>Quality3</th>\n      <th>Quality4</th>\n      <th>Quality_Min</th>\n    </tr>\n  </thead>\n  <tbody>\n    <tr>\n      <th>0</th>\n      <td>2022-06-27T14:30:04.000+0200</td>\n      <td>1322</td>\n      <td>3</td>\n      <td>6</td>\n      <td>OK</td>\n      <td>0.88</td>\n      <td>0.93</td>\n      <td>0.91</td>\n      <td>0.92</td>\n      <td>0.88</td>\n    </tr>\n    <tr>\n      <th>1</th>\n      <td>2022-06-27T14:29:58.000+0200</td>\n      <td>365</td>\n      <td>3</td>\n      <td>4</td>\n      <td>OK</td>\n      <td>0.97</td>\n      <td>0.93</td>\n      <td>0.97</td>\n      <td>0.89</td>\n      <td>0.89</td>\n    </tr>\n    <tr>\n      <th>2</th>\n      <td>2022-06-27T14:29:30.000+0200</td>\n      <td>329</td>\n      <td>2</td>\n      <td>4</td>\n      <td>OK</td>\n      <td>0.95</td>\n      <td>0.91</td>\n      <td>0.94</td>\n      <td>0.96</td>\n      <td>0.91</td>\n    </tr>\n    <tr>\n      <th>3</th>\n      <td>2022-06-27T14:29:27.000+0200</td>\n      <td>104</td>\n      <td>1</td>\n      <td>2</td>\n      <td>OK</td>\n      <td>0.96</td>\n      <td>0.84</td>\n      <td>0.96</td>\n      <td>0.93</td>\n      <td>0.84</td>\n    </tr>\n    <tr>\n      <th>4</th>\n      <td>2022-06-27T14:29:23.000+0200</td>\n      <td>576</td>\n      <td>2</td>\n      <td>6</td>\n      <td>OK</td>\n      <td>0.98</td>\n      <td>0.91</td>\n      <td>0.94</td>\n      <td>0.95</td>\n      <td>0.91</td>\n    </tr>\n    <tr>\n      <th>...</th>\n      <td>...</td>\n      <td>...</td>\n      <td>...</td>\n      <td>...</td>\n      <td>...</td>\n      <td>...</td>\n      <td>...</td>\n      <td>...</td>\n      <td>...</td>\n      <td>...</td>\n    </tr>\n    <tr>\n      <th>211258</th>\n      <td>2022-06-03T05:08:34.000+0200</td>\n      <td>990</td>\n      <td>2</td>\n      <td>2</td>\n      <td>OK</td>\n      <td>0.96</td>\n      <td>0.94</td>\n      <td>0.95</td>\n      <td>0.96</td>\n      <td>0.94</td>\n    </tr>\n    <tr>\n      <th>211259</th>\n      <td>2022-06-03T05:08:22.000+0200</td>\n      <td>366</td>\n      <td>2</td>\n      <td>4</td>\n      <td>OK</td>\n      <td>0.97</td>\n      <td>0.89</td>\n      <td>0.96</td>\n      <td>0.95</td>\n      <td>0.89</td>\n    </tr>\n    <tr>\n      <th>211260</th>\n      <td>2022-06-03T05:08:06.000+0200</td>\n      <td>442</td>\n      <td>2</td>\n      <td>6</td>\n      <td>OK</td>\n      <td>0.98</td>\n      <td>0.94</td>\n      <td>0.93</td>\n      <td>0.93</td>\n      <td>0.93</td>\n    </tr>\n    <tr>\n      <th>211261</th>\n      <td>2022-06-03T05:07:44.000+0200</td>\n      <td>981</td>\n      <td>3</td>\n      <td>2</td>\n      <td>OK</td>\n      <td>0.94</td>\n      <td>0.94</td>\n      <td>0.94</td>\n      <td>0.83</td>\n      <td>0.83</td>\n    </tr>\n    <tr>\n      <th>211262</th>\n      <td>2022-06-03T05:07:38.000+0200</td>\n      <td>1285</td>\n      <td>1</td>\n      <td>2</td>\n      <td>OK</td>\n      <td>0.83</td>\n      <td>0.90</td>\n      <td>0.96</td>\n      <td>0.90</td>\n      <td>0.83</td>\n    </tr>\n  </tbody>\n</table>\n<p>211263 rows × 10 columns</p>\n</div>"
     },
     "execution_count": 2,
     "metadata": {},
     "output_type": "execute_result"
    }
   ],
   "source": [
    "data = pd.read_excel('eines.xlsx')\n",
    "data.head(10)"
   ],
   "metadata": {
    "collapsed": false,
    "pycharm": {
     "name": "#%%\n"
    }
   }
  },
  {
   "cell_type": "code",
   "execution_count": 3,
   "outputs": [
    {
     "data": {
      "text/plain": "              Date      Time  SkidNr  Line  Camera Recognized  Quality1  \\\n0       2022-06-27  14:30:04    1322     3       6         OK      0.88   \n1       2022-06-27  14:29:58     365     3       4         OK      0.97   \n2       2022-06-27  14:29:30     329     2       4         OK      0.95   \n3       2022-06-27  14:29:27     104     1       2         OK      0.96   \n4       2022-06-27  14:29:23     576     2       6         OK      0.98   \n...            ...       ...     ...   ...     ...        ...       ...   \n211258  2022-06-03  05:08:34     990     2       2         OK      0.96   \n211259  2022-06-03  05:08:22     366     2       4         OK      0.97   \n211260  2022-06-03  05:08:06     442     2       6         OK      0.98   \n211261  2022-06-03  05:07:44     981     3       2         OK      0.94   \n211262  2022-06-03  05:07:38    1285     1       2         OK      0.83   \n\n        Quality2  Quality3  Quality4  Quality_Min  \n0           0.93      0.91      0.92         0.88  \n1           0.93      0.97      0.89         0.89  \n2           0.91      0.94      0.96         0.91  \n3           0.84      0.96      0.93         0.84  \n4           0.91      0.94      0.95         0.91  \n...          ...       ...       ...          ...  \n211258      0.94      0.95      0.96         0.94  \n211259      0.89      0.96      0.95         0.89  \n211260      0.94      0.93      0.93         0.93  \n211261      0.94      0.94      0.83         0.83  \n211262      0.90      0.96      0.90         0.83  \n\n[211263 rows x 11 columns]",
      "text/html": "<div>\n<style scoped>\n    .dataframe tbody tr th:only-of-type {\n        vertical-align: middle;\n    }\n\n    .dataframe tbody tr th {\n        vertical-align: top;\n    }\n\n    .dataframe thead th {\n        text-align: right;\n    }\n</style>\n<table border=\"1\" class=\"dataframe\">\n  <thead>\n    <tr style=\"text-align: right;\">\n      <th></th>\n      <th>Date</th>\n      <th>Time</th>\n      <th>SkidNr</th>\n      <th>Line</th>\n      <th>Camera</th>\n      <th>Recognized</th>\n      <th>Quality1</th>\n      <th>Quality2</th>\n      <th>Quality3</th>\n      <th>Quality4</th>\n      <th>Quality_Min</th>\n    </tr>\n  </thead>\n  <tbody>\n    <tr>\n      <th>0</th>\n      <td>2022-06-27</td>\n      <td>14:30:04</td>\n      <td>1322</td>\n      <td>3</td>\n      <td>6</td>\n      <td>OK</td>\n      <td>0.88</td>\n      <td>0.93</td>\n      <td>0.91</td>\n      <td>0.92</td>\n      <td>0.88</td>\n    </tr>\n    <tr>\n      <th>1</th>\n      <td>2022-06-27</td>\n      <td>14:29:58</td>\n      <td>365</td>\n      <td>3</td>\n      <td>4</td>\n      <td>OK</td>\n      <td>0.97</td>\n      <td>0.93</td>\n      <td>0.97</td>\n      <td>0.89</td>\n      <td>0.89</td>\n    </tr>\n    <tr>\n      <th>2</th>\n      <td>2022-06-27</td>\n      <td>14:29:30</td>\n      <td>329</td>\n      <td>2</td>\n      <td>4</td>\n      <td>OK</td>\n      <td>0.95</td>\n      <td>0.91</td>\n      <td>0.94</td>\n      <td>0.96</td>\n      <td>0.91</td>\n    </tr>\n    <tr>\n      <th>3</th>\n      <td>2022-06-27</td>\n      <td>14:29:27</td>\n      <td>104</td>\n      <td>1</td>\n      <td>2</td>\n      <td>OK</td>\n      <td>0.96</td>\n      <td>0.84</td>\n      <td>0.96</td>\n      <td>0.93</td>\n      <td>0.84</td>\n    </tr>\n    <tr>\n      <th>4</th>\n      <td>2022-06-27</td>\n      <td>14:29:23</td>\n      <td>576</td>\n      <td>2</td>\n      <td>6</td>\n      <td>OK</td>\n      <td>0.98</td>\n      <td>0.91</td>\n      <td>0.94</td>\n      <td>0.95</td>\n      <td>0.91</td>\n    </tr>\n    <tr>\n      <th>...</th>\n      <td>...</td>\n      <td>...</td>\n      <td>...</td>\n      <td>...</td>\n      <td>...</td>\n      <td>...</td>\n      <td>...</td>\n      <td>...</td>\n      <td>...</td>\n      <td>...</td>\n      <td>...</td>\n    </tr>\n    <tr>\n      <th>211258</th>\n      <td>2022-06-03</td>\n      <td>05:08:34</td>\n      <td>990</td>\n      <td>2</td>\n      <td>2</td>\n      <td>OK</td>\n      <td>0.96</td>\n      <td>0.94</td>\n      <td>0.95</td>\n      <td>0.96</td>\n      <td>0.94</td>\n    </tr>\n    <tr>\n      <th>211259</th>\n      <td>2022-06-03</td>\n      <td>05:08:22</td>\n      <td>366</td>\n      <td>2</td>\n      <td>4</td>\n      <td>OK</td>\n      <td>0.97</td>\n      <td>0.89</td>\n      <td>0.96</td>\n      <td>0.95</td>\n      <td>0.89</td>\n    </tr>\n    <tr>\n      <th>211260</th>\n      <td>2022-06-03</td>\n      <td>05:08:06</td>\n      <td>442</td>\n      <td>2</td>\n      <td>6</td>\n      <td>OK</td>\n      <td>0.98</td>\n      <td>0.94</td>\n      <td>0.93</td>\n      <td>0.93</td>\n      <td>0.93</td>\n    </tr>\n    <tr>\n      <th>211261</th>\n      <td>2022-06-03</td>\n      <td>05:07:44</td>\n      <td>981</td>\n      <td>3</td>\n      <td>2</td>\n      <td>OK</td>\n      <td>0.94</td>\n      <td>0.94</td>\n      <td>0.94</td>\n      <td>0.83</td>\n      <td>0.83</td>\n    </tr>\n    <tr>\n      <th>211262</th>\n      <td>2022-06-03</td>\n      <td>05:07:38</td>\n      <td>1285</td>\n      <td>1</td>\n      <td>2</td>\n      <td>OK</td>\n      <td>0.83</td>\n      <td>0.90</td>\n      <td>0.96</td>\n      <td>0.90</td>\n      <td>0.83</td>\n    </tr>\n  </tbody>\n</table>\n<p>211263 rows × 11 columns</p>\n</div>"
     },
     "execution_count": 3,
     "metadata": {},
     "output_type": "execute_result"
    }
   ],
   "source": [
    "#parse column _time to datetime format\n",
    "data['_time'] = pd.to_datetime(data['_time'])\n",
    "\n",
    "data['Date'] = pd.to_datetime(data['_time']).dt.date\n",
    "data['Time'] = pd.to_datetime(data['_time']).dt.time\n",
    "second_column = data.pop('Date')\n",
    "data.insert(1, 'Date', second_column)\n",
    "third_column = data.pop('Time')\n",
    "data.insert(2, 'Time', third_column)\n",
    "data.pop('_time')\n",
    "\n",
    "data\n"
   ],
   "metadata": {
    "collapsed": false,
    "pycharm": {
     "name": "#%%\n"
    }
   }
  },
  {
   "cell_type": "code",
   "execution_count": 4,
   "outputs": [
    {
     "data": {
      "text/plain": "         Date      Time  SkidNr  Line  Camera  Recognized  Quality1  Quality2  \\\n0  2022-06-27  14:30:04    1322     3       6           1      0.88      0.93   \n1  2022-06-27  14:29:58     365     3       4           1      0.97      0.93   \n2  2022-06-27  14:29:30     329     2       4           1      0.95      0.91   \n3  2022-06-27  14:29:27     104     1       2           1      0.96      0.84   \n4  2022-06-27  14:29:23     576     2       6           1      0.98      0.91   \n5  2022-06-27  14:29:02     427     2       1           1      0.91      0.88   \n6  2022-06-27  14:28:55     506     1       3           1      0.95      0.90   \n7  2022-06-27  14:28:47     766     2       2           1      0.95      0.91   \n8  2022-06-27  14:28:43    1465     1       5           1      0.86      0.92   \n9  2022-06-27  14:28:33     189     3       2           1      0.94      0.83   \n\n   Quality3  Quality4  Quality_Min  \n0      0.91      0.92         0.88  \n1      0.97      0.89         0.89  \n2      0.94      0.96         0.91  \n3      0.96      0.93         0.84  \n4      0.94      0.95         0.91  \n5      0.87      0.85         0.85  \n6      0.96      0.96         0.90  \n7      0.93      0.93         0.91  \n8      0.95      0.90         0.86  \n9      0.93      0.93         0.83  ",
      "text/html": "<div>\n<style scoped>\n    .dataframe tbody tr th:only-of-type {\n        vertical-align: middle;\n    }\n\n    .dataframe tbody tr th {\n        vertical-align: top;\n    }\n\n    .dataframe thead th {\n        text-align: right;\n    }\n</style>\n<table border=\"1\" class=\"dataframe\">\n  <thead>\n    <tr style=\"text-align: right;\">\n      <th></th>\n      <th>Date</th>\n      <th>Time</th>\n      <th>SkidNr</th>\n      <th>Line</th>\n      <th>Camera</th>\n      <th>Recognized</th>\n      <th>Quality1</th>\n      <th>Quality2</th>\n      <th>Quality3</th>\n      <th>Quality4</th>\n      <th>Quality_Min</th>\n    </tr>\n  </thead>\n  <tbody>\n    <tr>\n      <th>0</th>\n      <td>2022-06-27</td>\n      <td>14:30:04</td>\n      <td>1322</td>\n      <td>3</td>\n      <td>6</td>\n      <td>1</td>\n      <td>0.88</td>\n      <td>0.93</td>\n      <td>0.91</td>\n      <td>0.92</td>\n      <td>0.88</td>\n    </tr>\n    <tr>\n      <th>1</th>\n      <td>2022-06-27</td>\n      <td>14:29:58</td>\n      <td>365</td>\n      <td>3</td>\n      <td>4</td>\n      <td>1</td>\n      <td>0.97</td>\n      <td>0.93</td>\n      <td>0.97</td>\n      <td>0.89</td>\n      <td>0.89</td>\n    </tr>\n    <tr>\n      <th>2</th>\n      <td>2022-06-27</td>\n      <td>14:29:30</td>\n      <td>329</td>\n      <td>2</td>\n      <td>4</td>\n      <td>1</td>\n      <td>0.95</td>\n      <td>0.91</td>\n      <td>0.94</td>\n      <td>0.96</td>\n      <td>0.91</td>\n    </tr>\n    <tr>\n      <th>3</th>\n      <td>2022-06-27</td>\n      <td>14:29:27</td>\n      <td>104</td>\n      <td>1</td>\n      <td>2</td>\n      <td>1</td>\n      <td>0.96</td>\n      <td>0.84</td>\n      <td>0.96</td>\n      <td>0.93</td>\n      <td>0.84</td>\n    </tr>\n    <tr>\n      <th>4</th>\n      <td>2022-06-27</td>\n      <td>14:29:23</td>\n      <td>576</td>\n      <td>2</td>\n      <td>6</td>\n      <td>1</td>\n      <td>0.98</td>\n      <td>0.91</td>\n      <td>0.94</td>\n      <td>0.95</td>\n      <td>0.91</td>\n    </tr>\n    <tr>\n      <th>5</th>\n      <td>2022-06-27</td>\n      <td>14:29:02</td>\n      <td>427</td>\n      <td>2</td>\n      <td>1</td>\n      <td>1</td>\n      <td>0.91</td>\n      <td>0.88</td>\n      <td>0.87</td>\n      <td>0.85</td>\n      <td>0.85</td>\n    </tr>\n    <tr>\n      <th>6</th>\n      <td>2022-06-27</td>\n      <td>14:28:55</td>\n      <td>506</td>\n      <td>1</td>\n      <td>3</td>\n      <td>1</td>\n      <td>0.95</td>\n      <td>0.90</td>\n      <td>0.96</td>\n      <td>0.96</td>\n      <td>0.90</td>\n    </tr>\n    <tr>\n      <th>7</th>\n      <td>2022-06-27</td>\n      <td>14:28:47</td>\n      <td>766</td>\n      <td>2</td>\n      <td>2</td>\n      <td>1</td>\n      <td>0.95</td>\n      <td>0.91</td>\n      <td>0.93</td>\n      <td>0.93</td>\n      <td>0.91</td>\n    </tr>\n    <tr>\n      <th>8</th>\n      <td>2022-06-27</td>\n      <td>14:28:43</td>\n      <td>1465</td>\n      <td>1</td>\n      <td>5</td>\n      <td>1</td>\n      <td>0.86</td>\n      <td>0.92</td>\n      <td>0.95</td>\n      <td>0.90</td>\n      <td>0.86</td>\n    </tr>\n    <tr>\n      <th>9</th>\n      <td>2022-06-27</td>\n      <td>14:28:33</td>\n      <td>189</td>\n      <td>3</td>\n      <td>2</td>\n      <td>1</td>\n      <td>0.94</td>\n      <td>0.83</td>\n      <td>0.93</td>\n      <td>0.93</td>\n      <td>0.83</td>\n    </tr>\n  </tbody>\n</table>\n</div>"
     },
     "execution_count": 4,
     "metadata": {},
     "output_type": "execute_result"
    }
   ],
   "source": [
    "#bin encoding of column data['Recognized']\n",
    "#OK - 1, NOK - 0\n",
    "data['Recognized'] = data['Recognized'].map(lambda x: 1 if x=='OK' else 0)\n",
    "data.head(10)"
   ],
   "metadata": {
    "collapsed": false,
    "pycharm": {
     "name": "#%%\n"
    }
   }
  },
  {
   "cell_type": "code",
   "execution_count": 5,
   "outputs": [
    {
     "ename": "NameError",
     "evalue": "name 'train_test_split' is not defined",
     "output_type": "error",
     "traceback": [
      "\u001B[0;31m---------------------------------------------------------------------------\u001B[0m",
      "\u001B[0;31mNameError\u001B[0m                                 Traceback (most recent call last)",
      "Input \u001B[0;32mIn [5]\u001B[0m, in \u001B[0;36m<cell line: 5>\u001B[0;34m()\u001B[0m\n\u001B[1;32m      3\u001B[0m X \u001B[38;5;241m=\u001B[39m data\u001B[38;5;241m.\u001B[39mloc[:, features]\n\u001B[1;32m      4\u001B[0m y \u001B[38;5;241m=\u001B[39m data\u001B[38;5;241m.\u001B[39mloc[:, [\u001B[38;5;124m'\u001B[39m\u001B[38;5;124mRecognized\u001B[39m\u001B[38;5;124m'\u001B[39m]]\n\u001B[0;32m----> 5\u001B[0m X_train, X_test, y_train, y_test \u001B[38;5;241m=\u001B[39m \u001B[43mtrain_test_split\u001B[49m(X, y, random_state\u001B[38;5;241m=\u001B[39m\u001B[38;5;241m0\u001B[39m, train_size \u001B[38;5;241m=\u001B[39m \u001B[38;5;241m0.2\u001B[39m)\n",
      "\u001B[0;31mNameError\u001B[0m: name 'train_test_split' is not defined"
     ]
    }
   ],
   "source": [
    "# splitting data: 80% training and 20% test\n",
    "features = list(data.columns.values.tolist())\n",
    "X = data.loc[:, features]\n",
    "y = data.loc[:, ['Recognized']]\n",
    "X_train, X_test, y_train, y_test = train_test_split(X, y, random_state=0, train_size = 0.2)"
   ],
   "metadata": {
    "collapsed": false,
    "pycharm": {
     "name": "#%%\n"
    }
   }
  },
  {
   "cell_type": "code",
   "execution_count": null,
   "outputs": [],
   "source": [],
   "metadata": {
    "collapsed": false,
    "pycharm": {
     "name": "#%%\n"
    }
   }
  }
 ],
 "metadata": {
  "kernelspec": {
   "display_name": "Python 3",
   "language": "python",
   "name": "python3"
  },
  "language_info": {
   "codemirror_mode": {
    "name": "ipython",
    "version": 2
   },
   "file_extension": ".py",
   "mimetype": "text/x-python",
   "name": "python",
   "nbconvert_exporter": "python",
   "pygments_lexer": "ipython2",
   "version": "2.7.6"
  }
 },
 "nbformat": 4,
 "nbformat_minor": 0
}