{
 "cells": [
  {
   "cell_type": "code",
   "execution_count": 13,
   "metadata": {
    "collapsed": true,
    "pycharm": {
     "name": "#%%\n"
    }
   },
   "outputs": [],
   "source": [
    "import pandas as pd\n",
    "import numpy as np\n",
    "from sklearn.ensemble import IsolationForest\n",
    "from sklearn.metrics import f1_score, accuracy_score\n",
    "import seaborn as seab\n",
    "#from sklearn import preprocessing\n",
    "#from sklearn.preprocessing import LabelEncoder\n",
    "from sklearn.model_selection import train_test_split\n",
    "#from interpret.blackbox import LimeTabular\n",
    "#from interpret import show"
   ]
  },
  {
   "cell_type": "code",
   "execution_count": 4,
   "outputs": [
    {
     "data": {
      "text/plain": "                          _time  SkidNr  Line  Camera Recognized  Quality1  \\\n0  2022-06-27T14:30:04.000+0200    1322     3       6         OK      0.88   \n1  2022-06-27T14:29:58.000+0200     365     3       4         OK      0.97   \n2  2022-06-27T14:29:30.000+0200     329     2       4         OK      0.95   \n3  2022-06-27T14:29:27.000+0200     104     1       2         OK      0.96   \n4  2022-06-27T14:29:23.000+0200     576     2       6         OK      0.98   \n5  2022-06-27T14:29:02.000+0200     427     2       1         OK      0.91   \n6  2022-06-27T14:28:55.000+0200     506     1       3         OK      0.95   \n7  2022-06-27T14:28:47.000+0200     766     2       2         OK      0.95   \n8  2022-06-27T14:28:43.000+0200    1465     1       5         OK      0.86   \n9  2022-06-27T14:28:33.000+0200     189     3       2         OK      0.94   \n\n   Quality2  Quality3  Quality4  Quality_Min  \n0      0.93      0.91      0.92         0.88  \n1      0.93      0.97      0.89         0.89  \n2      0.91      0.94      0.96         0.91  \n3      0.84      0.96      0.93         0.84  \n4      0.91      0.94      0.95         0.91  \n5      0.88      0.87      0.85         0.85  \n6      0.90      0.96      0.96         0.90  \n7      0.91      0.93      0.93         0.91  \n8      0.92      0.95      0.90         0.86  \n9      0.83      0.93      0.93         0.83  ",
      "text/html": "<div>\n<style scoped>\n    .dataframe tbody tr th:only-of-type {\n        vertical-align: middle;\n    }\n\n    .dataframe tbody tr th {\n        vertical-align: top;\n    }\n\n    .dataframe thead th {\n        text-align: right;\n    }\n</style>\n<table border=\"1\" class=\"dataframe\">\n  <thead>\n    <tr style=\"text-align: right;\">\n      <th></th>\n      <th>_time</th>\n      <th>SkidNr</th>\n      <th>Line</th>\n      <th>Camera</th>\n      <th>Recognized</th>\n      <th>Quality1</th>\n      <th>Quality2</th>\n      <th>Quality3</th>\n      <th>Quality4</th>\n      <th>Quality_Min</th>\n    </tr>\n  </thead>\n  <tbody>\n    <tr>\n      <th>0</th>\n      <td>2022-06-27T14:30:04.000+0200</td>\n      <td>1322</td>\n      <td>3</td>\n      <td>6</td>\n      <td>OK</td>\n      <td>0.88</td>\n      <td>0.93</td>\n      <td>0.91</td>\n      <td>0.92</td>\n      <td>0.88</td>\n    </tr>\n    <tr>\n      <th>1</th>\n      <td>2022-06-27T14:29:58.000+0200</td>\n      <td>365</td>\n      <td>3</td>\n      <td>4</td>\n      <td>OK</td>\n      <td>0.97</td>\n      <td>0.93</td>\n      <td>0.97</td>\n      <td>0.89</td>\n      <td>0.89</td>\n    </tr>\n    <tr>\n      <th>2</th>\n      <td>2022-06-27T14:29:30.000+0200</td>\n      <td>329</td>\n      <td>2</td>\n      <td>4</td>\n      <td>OK</td>\n      <td>0.95</td>\n      <td>0.91</td>\n      <td>0.94</td>\n      <td>0.96</td>\n      <td>0.91</td>\n    </tr>\n    <tr>\n      <th>3</th>\n      <td>2022-06-27T14:29:27.000+0200</td>\n      <td>104</td>\n      <td>1</td>\n      <td>2</td>\n      <td>OK</td>\n      <td>0.96</td>\n      <td>0.84</td>\n      <td>0.96</td>\n      <td>0.93</td>\n      <td>0.84</td>\n    </tr>\n    <tr>\n      <th>4</th>\n      <td>2022-06-27T14:29:23.000+0200</td>\n      <td>576</td>\n      <td>2</td>\n      <td>6</td>\n      <td>OK</td>\n      <td>0.98</td>\n      <td>0.91</td>\n      <td>0.94</td>\n      <td>0.95</td>\n      <td>0.91</td>\n    </tr>\n    <tr>\n      <th>5</th>\n      <td>2022-06-27T14:29:02.000+0200</td>\n      <td>427</td>\n      <td>2</td>\n      <td>1</td>\n      <td>OK</td>\n      <td>0.91</td>\n      <td>0.88</td>\n      <td>0.87</td>\n      <td>0.85</td>\n      <td>0.85</td>\n    </tr>\n    <tr>\n      <th>6</th>\n      <td>2022-06-27T14:28:55.000+0200</td>\n      <td>506</td>\n      <td>1</td>\n      <td>3</td>\n      <td>OK</td>\n      <td>0.95</td>\n      <td>0.90</td>\n      <td>0.96</td>\n      <td>0.96</td>\n      <td>0.90</td>\n    </tr>\n    <tr>\n      <th>7</th>\n      <td>2022-06-27T14:28:47.000+0200</td>\n      <td>766</td>\n      <td>2</td>\n      <td>2</td>\n      <td>OK</td>\n      <td>0.95</td>\n      <td>0.91</td>\n      <td>0.93</td>\n      <td>0.93</td>\n      <td>0.91</td>\n    </tr>\n    <tr>\n      <th>8</th>\n      <td>2022-06-27T14:28:43.000+0200</td>\n      <td>1465</td>\n      <td>1</td>\n      <td>5</td>\n      <td>OK</td>\n      <td>0.86</td>\n      <td>0.92</td>\n      <td>0.95</td>\n      <td>0.90</td>\n      <td>0.86</td>\n    </tr>\n    <tr>\n      <th>9</th>\n      <td>2022-06-27T14:28:33.000+0200</td>\n      <td>189</td>\n      <td>3</td>\n      <td>2</td>\n      <td>OK</td>\n      <td>0.94</td>\n      <td>0.83</td>\n      <td>0.93</td>\n      <td>0.93</td>\n      <td>0.83</td>\n    </tr>\n  </tbody>\n</table>\n</div>"
     },
     "execution_count": 4,
     "metadata": {},
     "output_type": "execute_result"
    }
   ],
   "source": [
    "data = pd.read_excel('eines.xlsx')\n",
    "data.head(10)"
   ],
   "metadata": {
    "collapsed": false,
    "pycharm": {
     "name": "#%%\n"
    }
   }
  },
  {
   "cell_type": "code",
   "execution_count": 5,
   "outputs": [
    {
     "data": {
      "text/plain": "0        2022-06-27 14:30:04+02:00\n1        2022-06-27 14:29:58+02:00\n2        2022-06-27 14:29:30+02:00\n3        2022-06-27 14:29:27+02:00\n4        2022-06-27 14:29:23+02:00\n                    ...           \n211258   2022-06-03 05:08:34+02:00\n211259   2022-06-03 05:08:22+02:00\n211260   2022-06-03 05:08:06+02:00\n211261   2022-06-03 05:07:44+02:00\n211262   2022-06-03 05:07:38+02:00\nName: _time, Length: 211263, dtype: datetime64[ns, pytz.FixedOffset(120)]"
     },
     "execution_count": 5,
     "metadata": {},
     "output_type": "execute_result"
    }
   ],
   "source": [
    "#parse column _time to datetime format\n",
    "data['_time'] = pd.to_datetime(data['_time'])\n",
    "\n",
    "data['Date'] = pd.to_datetime(data['_time']).dt.date\n",
    "data['Time'] = pd.to_datetime(data['_time']).dt.time\n",
    "second_column = data.pop('Date')\n",
    "data.insert(1, 'Date', second_column)\n",
    "third_column = data.pop('Time')\n",
    "data.insert(2, 'Time', third_column)\n",
    "data.pop('_time')"
   ],
   "metadata": {
    "collapsed": false,
    "pycharm": {
     "name": "#%%\n"
    }
   }
  },
  {
   "cell_type": "code",
   "execution_count": 6,
   "outputs": [
    {
     "data": {
      "text/plain": "         Date      Time  SkidNr  Line  Camera  Recognized  Quality1  Quality2  \\\n0  2022-06-27  14:30:04    1322     3       6           1      0.88      0.93   \n1  2022-06-27  14:29:58     365     3       4           1      0.97      0.93   \n2  2022-06-27  14:29:30     329     2       4           1      0.95      0.91   \n3  2022-06-27  14:29:27     104     1       2           1      0.96      0.84   \n4  2022-06-27  14:29:23     576     2       6           1      0.98      0.91   \n5  2022-06-27  14:29:02     427     2       1           1      0.91      0.88   \n6  2022-06-27  14:28:55     506     1       3           1      0.95      0.90   \n7  2022-06-27  14:28:47     766     2       2           1      0.95      0.91   \n8  2022-06-27  14:28:43    1465     1       5           1      0.86      0.92   \n9  2022-06-27  14:28:33     189     3       2           1      0.94      0.83   \n\n   Quality3  Quality4  Quality_Min  \n0      0.91      0.92         0.88  \n1      0.97      0.89         0.89  \n2      0.94      0.96         0.91  \n3      0.96      0.93         0.84  \n4      0.94      0.95         0.91  \n5      0.87      0.85         0.85  \n6      0.96      0.96         0.90  \n7      0.93      0.93         0.91  \n8      0.95      0.90         0.86  \n9      0.93      0.93         0.83  ",
      "text/html": "<div>\n<style scoped>\n    .dataframe tbody tr th:only-of-type {\n        vertical-align: middle;\n    }\n\n    .dataframe tbody tr th {\n        vertical-align: top;\n    }\n\n    .dataframe thead th {\n        text-align: right;\n    }\n</style>\n<table border=\"1\" class=\"dataframe\">\n  <thead>\n    <tr style=\"text-align: right;\">\n      <th></th>\n      <th>Date</th>\n      <th>Time</th>\n      <th>SkidNr</th>\n      <th>Line</th>\n      <th>Camera</th>\n      <th>Recognized</th>\n      <th>Quality1</th>\n      <th>Quality2</th>\n      <th>Quality3</th>\n      <th>Quality4</th>\n      <th>Quality_Min</th>\n    </tr>\n  </thead>\n  <tbody>\n    <tr>\n      <th>0</th>\n      <td>2022-06-27</td>\n      <td>14:30:04</td>\n      <td>1322</td>\n      <td>3</td>\n      <td>6</td>\n      <td>1</td>\n      <td>0.88</td>\n      <td>0.93</td>\n      <td>0.91</td>\n      <td>0.92</td>\n      <td>0.88</td>\n    </tr>\n    <tr>\n      <th>1</th>\n      <td>2022-06-27</td>\n      <td>14:29:58</td>\n      <td>365</td>\n      <td>3</td>\n      <td>4</td>\n      <td>1</td>\n      <td>0.97</td>\n      <td>0.93</td>\n      <td>0.97</td>\n      <td>0.89</td>\n      <td>0.89</td>\n    </tr>\n    <tr>\n      <th>2</th>\n      <td>2022-06-27</td>\n      <td>14:29:30</td>\n      <td>329</td>\n      <td>2</td>\n      <td>4</td>\n      <td>1</td>\n      <td>0.95</td>\n      <td>0.91</td>\n      <td>0.94</td>\n      <td>0.96</td>\n      <td>0.91</td>\n    </tr>\n    <tr>\n      <th>3</th>\n      <td>2022-06-27</td>\n      <td>14:29:27</td>\n      <td>104</td>\n      <td>1</td>\n      <td>2</td>\n      <td>1</td>\n      <td>0.96</td>\n      <td>0.84</td>\n      <td>0.96</td>\n      <td>0.93</td>\n      <td>0.84</td>\n    </tr>\n    <tr>\n      <th>4</th>\n      <td>2022-06-27</td>\n      <td>14:29:23</td>\n      <td>576</td>\n      <td>2</td>\n      <td>6</td>\n      <td>1</td>\n      <td>0.98</td>\n      <td>0.91</td>\n      <td>0.94</td>\n      <td>0.95</td>\n      <td>0.91</td>\n    </tr>\n    <tr>\n      <th>5</th>\n      <td>2022-06-27</td>\n      <td>14:29:02</td>\n      <td>427</td>\n      <td>2</td>\n      <td>1</td>\n      <td>1</td>\n      <td>0.91</td>\n      <td>0.88</td>\n      <td>0.87</td>\n      <td>0.85</td>\n      <td>0.85</td>\n    </tr>\n    <tr>\n      <th>6</th>\n      <td>2022-06-27</td>\n      <td>14:28:55</td>\n      <td>506</td>\n      <td>1</td>\n      <td>3</td>\n      <td>1</td>\n      <td>0.95</td>\n      <td>0.90</td>\n      <td>0.96</td>\n      <td>0.96</td>\n      <td>0.90</td>\n    </tr>\n    <tr>\n      <th>7</th>\n      <td>2022-06-27</td>\n      <td>14:28:47</td>\n      <td>766</td>\n      <td>2</td>\n      <td>2</td>\n      <td>1</td>\n      <td>0.95</td>\n      <td>0.91</td>\n      <td>0.93</td>\n      <td>0.93</td>\n      <td>0.91</td>\n    </tr>\n    <tr>\n      <th>8</th>\n      <td>2022-06-27</td>\n      <td>14:28:43</td>\n      <td>1465</td>\n      <td>1</td>\n      <td>5</td>\n      <td>1</td>\n      <td>0.86</td>\n      <td>0.92</td>\n      <td>0.95</td>\n      <td>0.90</td>\n      <td>0.86</td>\n    </tr>\n    <tr>\n      <th>9</th>\n      <td>2022-06-27</td>\n      <td>14:28:33</td>\n      <td>189</td>\n      <td>3</td>\n      <td>2</td>\n      <td>1</td>\n      <td>0.94</td>\n      <td>0.83</td>\n      <td>0.93</td>\n      <td>0.93</td>\n      <td>0.83</td>\n    </tr>\n  </tbody>\n</table>\n</div>"
     },
     "execution_count": 6,
     "metadata": {},
     "output_type": "execute_result"
    }
   ],
   "source": [
    "#bin encoding of column data['Recognized']\n",
    "#OK - 1, NOK - 0\n",
    "data['Recognized'] = data['Recognized'].map(lambda x: 1 if x=='OK' else 0)\n",
    "data.head(10)"
   ],
   "metadata": {
    "collapsed": false,
    "pycharm": {
     "name": "#%%\n"
    }
   }
  },
  {
   "cell_type": "code",
   "execution_count": 8,
   "outputs": [],
   "source": [
    "# splitting dataset: 80% training and 20% test\n",
    "#features = list(data.columns.values.tolist())\n",
    "features = ['Date', 'Time', 'SkidNr', 'Line', 'Camera', 'Quality1', 'Quality2', 'Quality3', 'Quality4', 'Quality_Min']\n",
    "X = data.loc[:, features]\n",
    "y = data.loc[:, ['Recognized']]\n",
    "X_train, X_test, y_train, y_test = train_test_split(X, y, test_size = 0.2, train_size= 0.8,  random_state=0)"
   ],
   "metadata": {
    "collapsed": false,
    "pycharm": {
     "name": "#%%\n"
    }
   }
  },
  {
   "cell_type": "code",
   "execution_count": 9,
   "outputs": [
    {
     "name": "stderr",
     "output_type": "stream",
     "text": [
      "/Users/katerinaremesova/.conda/envs/conda/lib/python3.10/site-packages/sklearn/base.py:450: UserWarning: X does not have valid feature names, but IsolationForest was fitted with feature names\n",
      "  warnings.warn(\n"
     ]
    },
    {
     "name": "stdout",
     "output_type": "stream",
     "text": [
      "{'bootstrap': False, 'contamination': 0.2, 'max_features': 1.0, 'max_samples': 'auto', 'n_estimators': 100, 'n_jobs': None, 'random_state': RandomState(MT19937) at 0x7F9670F52440, 'verbose': 0, 'warm_start': False}\n"
     ]
    }
   ],
   "source": [
    "# IForest model implementation with target class 'Recognized'\n",
    "random_state = np.random.RandomState(42)\n",
    "\n",
    "model = IsolationForest(n_estimators=100, max_samples='auto', contamination=float(0.2), random_state= random_state)\n",
    "model.fit(data[['Recognized']])\n",
    "print(model.get_params())"
   ],
   "metadata": {
    "collapsed": false,
    "pycharm": {
     "name": "#%%\n"
    }
   }
  },
  {
   "cell_type": "code",
   "execution_count": 26,
   "outputs": [
    {
     "data": {
      "text/plain": "            Date      Time  SkidNr  Line  Camera  Recognized  Quality1  \\\n107   2022-06-27  13:37:39    1580     1       1           0      0.79   \n328   2022-06-27  12:10:41    8634     2       6           0      0.60   \n3990  2022-06-28  07:08:19    1097     1       1           0      0.83   \n5215  2022-06-27  22:27:00     826     2       1           0      0.92   \n5980  2022-06-27  16:35:41    1485     1       1           0      0.77   \n6607  2022-06-29  09:48:49     897     2       1           0      0.91   \n7104  2022-06-29  06:40:24    1357     2       1           0      0.85   \n7751  2022-06-29  01:20:20    1326     1       1           0      0.75   \n8518  2022-06-28  19:07:02    1633     1       1           0      0.84   \n8592  2022-06-28  18:35:50    1309     1       1           0      0.76   \n\n      Quality2  Quality3  Quality4  Quality_Min    Score  Anomaly_score  \n107       0.79      0.64      0.94         0.64 -0.07742             -1  \n328       0.97      0.94      0.95         0.60 -0.07742             -1  \n3990      0.93      0.87      0.65         0.65 -0.07742             -1  \n5215      0.92      0.85      0.54         0.54 -0.07742             -1  \n5980      0.88      0.64      0.86         0.64 -0.07742             -1  \n6607      0.92      0.89      0.66         0.66 -0.07742             -1  \n7104      0.85      0.69      0.86         0.69 -0.07742             -1  \n7751      0.68      0.78      0.86         0.68 -0.07742             -1  \n8518      0.90      0.68      0.82         0.68 -0.07742             -1  \n8592      0.68      0.93      0.87         0.68 -0.07742             -1  ",
      "text/html": "<div>\n<style scoped>\n    .dataframe tbody tr th:only-of-type {\n        vertical-align: middle;\n    }\n\n    .dataframe tbody tr th {\n        vertical-align: top;\n    }\n\n    .dataframe thead th {\n        text-align: right;\n    }\n</style>\n<table border=\"1\" class=\"dataframe\">\n  <thead>\n    <tr style=\"text-align: right;\">\n      <th></th>\n      <th>Date</th>\n      <th>Time</th>\n      <th>SkidNr</th>\n      <th>Line</th>\n      <th>Camera</th>\n      <th>Recognized</th>\n      <th>Quality1</th>\n      <th>Quality2</th>\n      <th>Quality3</th>\n      <th>Quality4</th>\n      <th>Quality_Min</th>\n      <th>Score</th>\n      <th>Anomaly_score</th>\n    </tr>\n  </thead>\n  <tbody>\n    <tr>\n      <th>107</th>\n      <td>2022-06-27</td>\n      <td>13:37:39</td>\n      <td>1580</td>\n      <td>1</td>\n      <td>1</td>\n      <td>0</td>\n      <td>0.79</td>\n      <td>0.79</td>\n      <td>0.64</td>\n      <td>0.94</td>\n      <td>0.64</td>\n      <td>-0.07742</td>\n      <td>-1</td>\n    </tr>\n    <tr>\n      <th>328</th>\n      <td>2022-06-27</td>\n      <td>12:10:41</td>\n      <td>8634</td>\n      <td>2</td>\n      <td>6</td>\n      <td>0</td>\n      <td>0.60</td>\n      <td>0.97</td>\n      <td>0.94</td>\n      <td>0.95</td>\n      <td>0.60</td>\n      <td>-0.07742</td>\n      <td>-1</td>\n    </tr>\n    <tr>\n      <th>3990</th>\n      <td>2022-06-28</td>\n      <td>07:08:19</td>\n      <td>1097</td>\n      <td>1</td>\n      <td>1</td>\n      <td>0</td>\n      <td>0.83</td>\n      <td>0.93</td>\n      <td>0.87</td>\n      <td>0.65</td>\n      <td>0.65</td>\n      <td>-0.07742</td>\n      <td>-1</td>\n    </tr>\n    <tr>\n      <th>5215</th>\n      <td>2022-06-27</td>\n      <td>22:27:00</td>\n      <td>826</td>\n      <td>2</td>\n      <td>1</td>\n      <td>0</td>\n      <td>0.92</td>\n      <td>0.92</td>\n      <td>0.85</td>\n      <td>0.54</td>\n      <td>0.54</td>\n      <td>-0.07742</td>\n      <td>-1</td>\n    </tr>\n    <tr>\n      <th>5980</th>\n      <td>2022-06-27</td>\n      <td>16:35:41</td>\n      <td>1485</td>\n      <td>1</td>\n      <td>1</td>\n      <td>0</td>\n      <td>0.77</td>\n      <td>0.88</td>\n      <td>0.64</td>\n      <td>0.86</td>\n      <td>0.64</td>\n      <td>-0.07742</td>\n      <td>-1</td>\n    </tr>\n    <tr>\n      <th>6607</th>\n      <td>2022-06-29</td>\n      <td>09:48:49</td>\n      <td>897</td>\n      <td>2</td>\n      <td>1</td>\n      <td>0</td>\n      <td>0.91</td>\n      <td>0.92</td>\n      <td>0.89</td>\n      <td>0.66</td>\n      <td>0.66</td>\n      <td>-0.07742</td>\n      <td>-1</td>\n    </tr>\n    <tr>\n      <th>7104</th>\n      <td>2022-06-29</td>\n      <td>06:40:24</td>\n      <td>1357</td>\n      <td>2</td>\n      <td>1</td>\n      <td>0</td>\n      <td>0.85</td>\n      <td>0.85</td>\n      <td>0.69</td>\n      <td>0.86</td>\n      <td>0.69</td>\n      <td>-0.07742</td>\n      <td>-1</td>\n    </tr>\n    <tr>\n      <th>7751</th>\n      <td>2022-06-29</td>\n      <td>01:20:20</td>\n      <td>1326</td>\n      <td>1</td>\n      <td>1</td>\n      <td>0</td>\n      <td>0.75</td>\n      <td>0.68</td>\n      <td>0.78</td>\n      <td>0.86</td>\n      <td>0.68</td>\n      <td>-0.07742</td>\n      <td>-1</td>\n    </tr>\n    <tr>\n      <th>8518</th>\n      <td>2022-06-28</td>\n      <td>19:07:02</td>\n      <td>1633</td>\n      <td>1</td>\n      <td>1</td>\n      <td>0</td>\n      <td>0.84</td>\n      <td>0.90</td>\n      <td>0.68</td>\n      <td>0.82</td>\n      <td>0.68</td>\n      <td>-0.07742</td>\n      <td>-1</td>\n    </tr>\n    <tr>\n      <th>8592</th>\n      <td>2022-06-28</td>\n      <td>18:35:50</td>\n      <td>1309</td>\n      <td>1</td>\n      <td>1</td>\n      <td>0</td>\n      <td>0.76</td>\n      <td>0.68</td>\n      <td>0.93</td>\n      <td>0.87</td>\n      <td>0.68</td>\n      <td>-0.07742</td>\n      <td>-1</td>\n    </tr>\n  </tbody>\n</table>\n</div>"
     },
     "execution_count": 26,
     "metadata": {},
     "output_type": "execute_result"
    }
   ],
   "source": [
    "# anomaly score for 'Recognized'\n",
    "#Anonalies are assigned a score value of -1\n",
    "data['Score'] = model.decision_function(data[['Recognized']])\n",
    "data['Anomaly_score'] = model.predict(data[['Recognized']])\n",
    "data[data['Anomaly_score'] == -1].head(10)"
   ],
   "metadata": {
    "collapsed": false,
    "pycharm": {
     "name": "#%%\n"
    }
   }
  },
  {
   "cell_type": "code",
   "execution_count": 30,
   "outputs": [
    {
     "name": "stdout",
     "output_type": "stream",
     "text": [
      "Number of anomalies in dataset 290 out of 211263 rows.\n"
     ]
    }
   ],
   "source": [
    "#How many anomalies are in the dataset\n",
    "anomalies = len(data[data['Anomaly_score'] == -1])\n",
    "rows = len(data)\n",
    "#errorPercentile = anomalies / rows\n",
    "print(\"Number of anomalies in dataset\", anomalies, \"out of\", rows, \"rows.\")"
   ],
   "metadata": {
    "collapsed": false,
    "pycharm": {
     "name": "#%%\n"
    }
   }
  },
  {
   "cell_type": "code",
   "execution_count": 62,
   "outputs": [
    {
     "data": {
      "text/plain": "            Date      Time  SkidNr  Line  Camera  Recognized  Quality1  \\\n107   2022-06-27  13:37:39    1580     1       1           0      0.79   \n328   2022-06-27  12:10:41    8634     2       6           0      0.60   \n3990  2022-06-28  07:08:19    1097     1       1           0      0.83   \n5215  2022-06-27  22:27:00     826     2       1           0      0.92   \n5980  2022-06-27  16:35:41    1485     1       1           0      0.77   \n6607  2022-06-29  09:48:49     897     2       1           0      0.91   \n7104  2022-06-29  06:40:24    1357     2       1           0      0.85   \n7751  2022-06-29  01:20:20    1326     1       1           0      0.75   \n8518  2022-06-28  19:07:02    1633     1       1           0      0.84   \n8592  2022-06-28  18:35:50    1309     1       1           0      0.76   \n\n      Quality2  Quality3  Quality4  Quality_Min    Score  Anomaly_score  \n107       0.79      0.64      0.94         0.64 -0.07742             -1  \n328       0.97      0.94      0.95         0.60 -0.07742             -1  \n3990      0.93      0.87      0.65         0.65 -0.07742             -1  \n5215      0.92      0.85      0.54         0.54 -0.07742             -1  \n5980      0.88      0.64      0.86         0.64 -0.07742             -1  \n6607      0.92      0.89      0.66         0.66 -0.07742             -1  \n7104      0.85      0.69      0.86         0.69 -0.07742             -1  \n7751      0.68      0.78      0.86         0.68 -0.07742             -1  \n8518      0.90      0.68      0.82         0.68 -0.07742             -1  \n8592      0.68      0.93      0.87         0.68 -0.07742             -1  ",
      "text/html": "<div>\n<style scoped>\n    .dataframe tbody tr th:only-of-type {\n        vertical-align: middle;\n    }\n\n    .dataframe tbody tr th {\n        vertical-align: top;\n    }\n\n    .dataframe thead th {\n        text-align: right;\n    }\n</style>\n<table border=\"1\" class=\"dataframe\">\n  <thead>\n    <tr style=\"text-align: right;\">\n      <th></th>\n      <th>Date</th>\n      <th>Time</th>\n      <th>SkidNr</th>\n      <th>Line</th>\n      <th>Camera</th>\n      <th>Recognized</th>\n      <th>Quality1</th>\n      <th>Quality2</th>\n      <th>Quality3</th>\n      <th>Quality4</th>\n      <th>Quality_Min</th>\n      <th>Score</th>\n      <th>Anomaly_score</th>\n    </tr>\n  </thead>\n  <tbody>\n    <tr>\n      <th>107</th>\n      <td>2022-06-27</td>\n      <td>13:37:39</td>\n      <td>1580</td>\n      <td>1</td>\n      <td>1</td>\n      <td>0</td>\n      <td>0.79</td>\n      <td>0.79</td>\n      <td>0.64</td>\n      <td>0.94</td>\n      <td>0.64</td>\n      <td>-0.07742</td>\n      <td>-1</td>\n    </tr>\n    <tr>\n      <th>328</th>\n      <td>2022-06-27</td>\n      <td>12:10:41</td>\n      <td>8634</td>\n      <td>2</td>\n      <td>6</td>\n      <td>0</td>\n      <td>0.60</td>\n      <td>0.97</td>\n      <td>0.94</td>\n      <td>0.95</td>\n      <td>0.60</td>\n      <td>-0.07742</td>\n      <td>-1</td>\n    </tr>\n    <tr>\n      <th>3990</th>\n      <td>2022-06-28</td>\n      <td>07:08:19</td>\n      <td>1097</td>\n      <td>1</td>\n      <td>1</td>\n      <td>0</td>\n      <td>0.83</td>\n      <td>0.93</td>\n      <td>0.87</td>\n      <td>0.65</td>\n      <td>0.65</td>\n      <td>-0.07742</td>\n      <td>-1</td>\n    </tr>\n    <tr>\n      <th>5215</th>\n      <td>2022-06-27</td>\n      <td>22:27:00</td>\n      <td>826</td>\n      <td>2</td>\n      <td>1</td>\n      <td>0</td>\n      <td>0.92</td>\n      <td>0.92</td>\n      <td>0.85</td>\n      <td>0.54</td>\n      <td>0.54</td>\n      <td>-0.07742</td>\n      <td>-1</td>\n    </tr>\n    <tr>\n      <th>5980</th>\n      <td>2022-06-27</td>\n      <td>16:35:41</td>\n      <td>1485</td>\n      <td>1</td>\n      <td>1</td>\n      <td>0</td>\n      <td>0.77</td>\n      <td>0.88</td>\n      <td>0.64</td>\n      <td>0.86</td>\n      <td>0.64</td>\n      <td>-0.07742</td>\n      <td>-1</td>\n    </tr>\n    <tr>\n      <th>6607</th>\n      <td>2022-06-29</td>\n      <td>09:48:49</td>\n      <td>897</td>\n      <td>2</td>\n      <td>1</td>\n      <td>0</td>\n      <td>0.91</td>\n      <td>0.92</td>\n      <td>0.89</td>\n      <td>0.66</td>\n      <td>0.66</td>\n      <td>-0.07742</td>\n      <td>-1</td>\n    </tr>\n    <tr>\n      <th>7104</th>\n      <td>2022-06-29</td>\n      <td>06:40:24</td>\n      <td>1357</td>\n      <td>2</td>\n      <td>1</td>\n      <td>0</td>\n      <td>0.85</td>\n      <td>0.85</td>\n      <td>0.69</td>\n      <td>0.86</td>\n      <td>0.69</td>\n      <td>-0.07742</td>\n      <td>-1</td>\n    </tr>\n    <tr>\n      <th>7751</th>\n      <td>2022-06-29</td>\n      <td>01:20:20</td>\n      <td>1326</td>\n      <td>1</td>\n      <td>1</td>\n      <td>0</td>\n      <td>0.75</td>\n      <td>0.68</td>\n      <td>0.78</td>\n      <td>0.86</td>\n      <td>0.68</td>\n      <td>-0.07742</td>\n      <td>-1</td>\n    </tr>\n    <tr>\n      <th>8518</th>\n      <td>2022-06-28</td>\n      <td>19:07:02</td>\n      <td>1633</td>\n      <td>1</td>\n      <td>1</td>\n      <td>0</td>\n      <td>0.84</td>\n      <td>0.90</td>\n      <td>0.68</td>\n      <td>0.82</td>\n      <td>0.68</td>\n      <td>-0.07742</td>\n      <td>-1</td>\n    </tr>\n    <tr>\n      <th>8592</th>\n      <td>2022-06-28</td>\n      <td>18:35:50</td>\n      <td>1309</td>\n      <td>1</td>\n      <td>1</td>\n      <td>0</td>\n      <td>0.76</td>\n      <td>0.68</td>\n      <td>0.93</td>\n      <td>0.87</td>\n      <td>0.68</td>\n      <td>-0.07742</td>\n      <td>-1</td>\n    </tr>\n  </tbody>\n</table>\n</div>"
     },
     "execution_count": 62,
     "metadata": {},
     "output_type": "execute_result"
    }
   ],
   "source": [
    "#Preprocessing the dataset - anomaly values only\n",
    "dataA = data[data['Anomaly_score'] == -1]\n",
    "dataA.head(10)"
   ],
   "metadata": {
    "collapsed": false,
    "pycharm": {
     "name": "#%%\n"
    }
   }
  },
  {
   "cell_type": "code",
   "execution_count": 66,
   "outputs": [
    {
     "data": {
      "text/plain": "   Line\n1    72\n2   184\n3    34",
      "text/html": "<div>\n<style scoped>\n    .dataframe tbody tr th:only-of-type {\n        vertical-align: middle;\n    }\n\n    .dataframe tbody tr th {\n        vertical-align: top;\n    }\n\n    .dataframe thead th {\n        text-align: right;\n    }\n</style>\n<table border=\"1\" class=\"dataframe\">\n  <thead>\n    <tr style=\"text-align: right;\">\n      <th></th>\n      <th>Line</th>\n    </tr>\n  </thead>\n  <tbody>\n    <tr>\n      <th>1</th>\n      <td>72</td>\n    </tr>\n    <tr>\n      <th>2</th>\n      <td>184</td>\n    </tr>\n    <tr>\n      <th>3</th>\n      <td>34</td>\n    </tr>\n  </tbody>\n</table>\n</div>"
     },
     "execution_count": 66,
     "metadata": {},
     "output_type": "execute_result"
    }
   ],
   "source": [
    "#How many anomalies per Line\n",
    "pd.value_counts(dataA['Line']).sort_index(ascending= True).to_frame()"
   ],
   "metadata": {
    "collapsed": false,
    "pycharm": {
     "name": "#%%\n"
    }
   }
  },
  {
   "cell_type": "code",
   "execution_count": 67,
   "outputs": [
    {
     "data": {
      "text/plain": "   Camera\n1     211\n2       5\n3       8\n4       7\n5      28\n6      31",
      "text/html": "<div>\n<style scoped>\n    .dataframe tbody tr th:only-of-type {\n        vertical-align: middle;\n    }\n\n    .dataframe tbody tr th {\n        vertical-align: top;\n    }\n\n    .dataframe thead th {\n        text-align: right;\n    }\n</style>\n<table border=\"1\" class=\"dataframe\">\n  <thead>\n    <tr style=\"text-align: right;\">\n      <th></th>\n      <th>Camera</th>\n    </tr>\n  </thead>\n  <tbody>\n    <tr>\n      <th>1</th>\n      <td>211</td>\n    </tr>\n    <tr>\n      <th>2</th>\n      <td>5</td>\n    </tr>\n    <tr>\n      <th>3</th>\n      <td>8</td>\n    </tr>\n    <tr>\n      <th>4</th>\n      <td>7</td>\n    </tr>\n    <tr>\n      <th>5</th>\n      <td>28</td>\n    </tr>\n    <tr>\n      <th>6</th>\n      <td>31</td>\n    </tr>\n  </tbody>\n</table>\n</div>"
     },
     "execution_count": 67,
     "metadata": {},
     "output_type": "execute_result"
    }
   ],
   "source": [
    "#How many anomalies per\n",
    "pd.value_counts(dataA['Camera']).sort_index(ascending= True).to_frame()"
   ],
   "metadata": {
    "collapsed": false,
    "pycharm": {
     "name": "#%%\n"
    }
   }
  },
  {
   "cell_type": "code",
   "execution_count": 59,
   "outputs": [
    {
     "data": {
      "text/plain": "                        0\nLine Anomaly_score       \n1    -1                72\n      1             61392\n2    -1               184\n      1             74979\n3    -1                34\n      1             74602",
      "text/html": "<div>\n<style scoped>\n    .dataframe tbody tr th:only-of-type {\n        vertical-align: middle;\n    }\n\n    .dataframe tbody tr th {\n        vertical-align: top;\n    }\n\n    .dataframe thead th {\n        text-align: right;\n    }\n</style>\n<table border=\"1\" class=\"dataframe\">\n  <thead>\n    <tr style=\"text-align: right;\">\n      <th></th>\n      <th></th>\n      <th>0</th>\n    </tr>\n    <tr>\n      <th>Line</th>\n      <th>Anomaly_score</th>\n      <th></th>\n    </tr>\n  </thead>\n  <tbody>\n    <tr>\n      <th rowspan=\"2\" valign=\"top\">1</th>\n      <th>-1</th>\n      <td>72</td>\n    </tr>\n    <tr>\n      <th>1</th>\n      <td>61392</td>\n    </tr>\n    <tr>\n      <th rowspan=\"2\" valign=\"top\">2</th>\n      <th>-1</th>\n      <td>184</td>\n    </tr>\n    <tr>\n      <th>1</th>\n      <td>74979</td>\n    </tr>\n    <tr>\n      <th rowspan=\"2\" valign=\"top\">3</th>\n      <th>-1</th>\n      <td>34</td>\n    </tr>\n    <tr>\n      <th>1</th>\n      <td>74602</td>\n    </tr>\n  </tbody>\n</table>\n</div>"
     },
     "execution_count": 59,
     "metadata": {},
     "output_type": "execute_result"
    }
   ],
   "source": [
    "#data[['Line', 'Anomaly_score']].value_counts().sort_index(ascending= True).to_frame()"
   ],
   "metadata": {
    "collapsed": false,
    "pycharm": {
     "name": "#%%\n"
    }
   }
  }
 ],
 "metadata": {
  "kernelspec": {
   "display_name": "Python 3",
   "language": "python",
   "name": "python3"
  },
  "language_info": {
   "codemirror_mode": {
    "name": "ipython",
    "version": 2
   },
   "file_extension": ".py",
   "mimetype": "text/x-python",
   "name": "python",
   "nbconvert_exporter": "python",
   "pygments_lexer": "ipython2",
   "version": "2.7.6"
  }
 },
 "nbformat": 4,
 "nbformat_minor": 0
}